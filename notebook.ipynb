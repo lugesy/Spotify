{
 "cells": [
  {
   "cell_type": "markdown",
   "id": "e8d5d971",
   "metadata": {},
   "source": [
    "# Billboard Hot 100 Turns 60: Top 600 Songs Of All Time\n",
    "\n",
    "In honor of the 60th Anniversary of the Billboard Hot 100 Singles chart, on August 4, 2018, \n",
    "they created this [special chart of the 600 biggest songs of all time.](https://open.spotify.com/playlist/0X9hkrRqCCP69Ze1MheAda)\n",
    "\n",
    "We'll use Spotipy library API for scraping data from Spotify. Besides extracting the 600 songs from the Billboard, we'll also pull interesting song data such as danceability, loudness, energy of each song."
   ]
  },
  {
   "cell_type": "code",
   "execution_count": 113,
   "id": "ad4331c3",
   "metadata": {},
   "outputs": [],
   "source": [
    "import spotipy\n",
    "from spotipy.oauth2 import SpotifyClientCredentials\n",
    "from configparser import ConfigParser\n",
    "import pandas as pd\n",
    "import datetime\n",
    "from datetime import timedelta"
   ]
  },
  {
   "cell_type": "markdown",
   "id": "0f6a310f",
   "metadata": {},
   "source": [
    "## Data Extraction"
   ]
  },
  {
   "cell_type": "code",
   "execution_count": 114,
   "id": "74e3bb35",
   "metadata": {},
   "outputs": [],
   "source": [
    "config = ConfigParser()\n",
    "config.read('notebook.cfg')\n",
    "client_id = config['spotify_api']['client_id']\n",
    "client_secret = config['spotify_api']['client_secret']\n",
    "\n",
    "#Authenticating with Spotipy\n",
    "client_credentials_manager = SpotifyClientCredentials(client_id = client_id, client_secret = client_secret)\n",
    "sp = spotipy.Spotify(client_credentials_manager = client_credentials_manager)"
   ]
  },
  {
   "cell_type": "markdown",
   "id": "fe198680",
   "metadata": {},
   "source": [
    "### 1. Playlist Items\n",
    "Since playlist_items() function is limited to 100 tracks, we'll create a custom method to pull all tracks in [the Top 600 Songs list](https://open.spotify.com/playlist/0X9hkrRqCCP69Ze1MheAda)"
   ]
  },
  {
   "cell_type": "code",
   "execution_count": 115,
   "id": "981822c9",
   "metadata": {},
   "outputs": [],
   "source": [
    "# Playlist_tracks\n",
    "def get_playlist_tracks(playlist_id):\n",
    "    \n",
    "    pl_id = 'spotify:playlist:'+ playlist_id\n",
    "    offset = 0\n",
    "    print(pl_id)\n",
    "    while True:\n",
    "        response = sp.playlist_items(pl_id,\n",
    "                                 offset=offset,\n",
    "                                 fields='items(track(id,name,artists(name),album(name, album_type, release_date),popularity,duration_ms))'\n",
    "                                    )\n",
    "    \n",
    "        if len(response['items']) == 0:\n",
    "            break\n",
    "        \n",
    "        for item in response['items']:\n",
    "            yield(item[\"track\"])\n",
    "\n",
    "        offset = offset + len(response['items'])"
   ]
  },
  {
   "cell_type": "code",
   "execution_count": 116,
   "id": "9e6bff63",
   "metadata": {},
   "outputs": [],
   "source": [
    "playlist_link = 'https://open.spotify.com/playlist/0X9hkrRqCCP69Ze1MheAda'\n",
    "playlist_id = playlist_link.split(\"/\")[-1].split(\"?\")[0]"
   ]
  },
  {
   "cell_type": "code",
   "execution_count": 117,
   "id": "091a65d1",
   "metadata": {},
   "outputs": [
    {
     "name": "stdout",
     "output_type": "stream",
     "text": [
      "spotify:playlist:0X9hkrRqCCP69Ze1MheAda\n"
     ]
    }
   ],
   "source": [
    "track_list = [] \n",
    "for track in get_playlist_tracks(playlist_id):\n",
    "    \n",
    "    track_id = track['id']\n",
    "    track_name = track['name']\n",
    "     \n",
    "    artist_name = track['artists'][0]['name']\n",
    "   \n",
    "    album = track['album']['name']\n",
    "    album_type = track['album']['album_type']\n",
    "    release_date = track['album']['release_date']\n",
    "\n",
    "    track_pop = track['popularity']\n",
    "    track_duration = track['duration_ms']\n",
    "    \n",
    "    newlist =  [track_id, track_name, track_duration, track_pop, artist_name, album, album_type, release_date ]\n",
    "    \n",
    "    track_list.append(newlist)"
   ]
  },
  {
   "cell_type": "code",
   "execution_count": 100,
   "id": "6f2e6097",
   "metadata": {},
   "outputs": [],
   "source": [
    "#track_list"
   ]
  },
  {
   "cell_type": "code",
   "execution_count": 118,
   "id": "80ba1eed",
   "metadata": {},
   "outputs": [],
   "source": [
    "playlist_df = pd.DataFrame(track_list)\n",
    "playlist_df.columns = ['track_id', 'track_name', 'duration', 'track_pop', 'artist', 'album', 'album_type', 'release_date']\n",
    "#playlist_df.info()"
   ]
  },
  {
   "cell_type": "code",
   "execution_count": 119,
   "id": "30b5068a",
   "metadata": {},
   "outputs": [
    {
     "data": {
      "text/html": [
       "<div>\n",
       "<style scoped>\n",
       "    .dataframe tbody tr th:only-of-type {\n",
       "        vertical-align: middle;\n",
       "    }\n",
       "\n",
       "    .dataframe tbody tr th {\n",
       "        vertical-align: top;\n",
       "    }\n",
       "\n",
       "    .dataframe thead th {\n",
       "        text-align: right;\n",
       "    }\n",
       "</style>\n",
       "<table border=\"1\" class=\"dataframe\">\n",
       "  <thead>\n",
       "    <tr style=\"text-align: right;\">\n",
       "      <th></th>\n",
       "      <th>track_id</th>\n",
       "      <th>track_name</th>\n",
       "      <th>duration</th>\n",
       "      <th>track_pop</th>\n",
       "      <th>artist</th>\n",
       "      <th>album</th>\n",
       "      <th>album_type</th>\n",
       "      <th>release_date</th>\n",
       "    </tr>\n",
       "  </thead>\n",
       "  <tbody>\n",
       "    <tr>\n",
       "      <th>0</th>\n",
       "      <td>3ohLnESFgYACPMCkoTOzqE</td>\n",
       "      <td>The Twist</td>\n",
       "      <td>153760</td>\n",
       "      <td>53</td>\n",
       "      <td>Chubby Checker</td>\n",
       "      <td>The Best Of Chubby Checker 1959-1963</td>\n",
       "      <td>compilation</td>\n",
       "      <td>2005-01-01</td>\n",
       "    </tr>\n",
       "    <tr>\n",
       "      <th>1</th>\n",
       "      <td>0n2SEXB2qoRQg171q7XqeW</td>\n",
       "      <td>Smooth (feat. Rob Thomas)</td>\n",
       "      <td>294986</td>\n",
       "      <td>69</td>\n",
       "      <td>Santana</td>\n",
       "      <td>Supernatural (Remastered)</td>\n",
       "      <td>album</td>\n",
       "      <td>1999-06-15</td>\n",
       "    </tr>\n",
       "    <tr>\n",
       "      <th>2</th>\n",
       "      <td>3E5ndyOfO6vFDEIE42HA8o</td>\n",
       "      <td>Mack the Knife</td>\n",
       "      <td>184333</td>\n",
       "      <td>61</td>\n",
       "      <td>Bobby Darin</td>\n",
       "      <td>That's All</td>\n",
       "      <td>album</td>\n",
       "      <td>1959</td>\n",
       "    </tr>\n",
       "    <tr>\n",
       "      <th>3</th>\n",
       "      <td>32OlwWuMpZ6b0aN2RZOeMS</td>\n",
       "      <td>Uptown Funk (feat. Bruno Mars)</td>\n",
       "      <td>269666</td>\n",
       "      <td>83</td>\n",
       "      <td>Mark Ronson</td>\n",
       "      <td>Uptown Special</td>\n",
       "      <td>album</td>\n",
       "      <td>2015-01-12</td>\n",
       "    </tr>\n",
       "    <tr>\n",
       "      <th>4</th>\n",
       "      <td>7BD50ATrF3Vab5FQy7vtK8</td>\n",
       "      <td>How Do I Live</td>\n",
       "      <td>266973</td>\n",
       "      <td>68</td>\n",
       "      <td>LeAnn Rimes</td>\n",
       "      <td>Greatest Hits</td>\n",
       "      <td>compilation</td>\n",
       "      <td>2003-11-18</td>\n",
       "    </tr>\n",
       "  </tbody>\n",
       "</table>\n",
       "</div>"
      ],
      "text/plain": [
       "                 track_id                      track_name  duration  \\\n",
       "0  3ohLnESFgYACPMCkoTOzqE                       The Twist    153760   \n",
       "1  0n2SEXB2qoRQg171q7XqeW       Smooth (feat. Rob Thomas)    294986   \n",
       "2  3E5ndyOfO6vFDEIE42HA8o                  Mack the Knife    184333   \n",
       "3  32OlwWuMpZ6b0aN2RZOeMS  Uptown Funk (feat. Bruno Mars)    269666   \n",
       "4  7BD50ATrF3Vab5FQy7vtK8                   How Do I Live    266973   \n",
       "\n",
       "   track_pop          artist                                 album  \\\n",
       "0         53  Chubby Checker  The Best Of Chubby Checker 1959-1963   \n",
       "1         69         Santana             Supernatural (Remastered)   \n",
       "2         61     Bobby Darin                            That's All   \n",
       "3         83     Mark Ronson                        Uptown Special   \n",
       "4         68     LeAnn Rimes                         Greatest Hits   \n",
       "\n",
       "    album_type release_date  \n",
       "0  compilation   2005-01-01  \n",
       "1        album   1999-06-15  \n",
       "2        album         1959  \n",
       "3        album   2015-01-12  \n",
       "4  compilation   2003-11-18  "
      ]
     },
     "execution_count": 119,
     "metadata": {},
     "output_type": "execute_result"
    }
   ],
   "source": [
    "playlist_df.head()"
   ]
  },
  {
   "cell_type": "markdown",
   "id": "ae5ae047",
   "metadata": {},
   "source": [
    "### Data transformation"
   ]
  },
  {
   "cell_type": "code",
   "execution_count": 102,
   "id": "2d995760",
   "metadata": {},
   "outputs": [],
   "source": [
    "#Convert 'duration' from milliseconds to seconds.\n",
    "playlist_df['duration_sec'] = pd.to_timedelta(playlist_df.duration, unit='ms')\n",
    "playlist_df.duration_sec = playlist_df.duration_sec.dt.total_seconds().astype(int)\n",
    "#playlist_df.head()"
   ]
  },
  {
   "cell_type": "markdown",
   "id": "50862a8e",
   "metadata": {},
   "source": [
    "Another option is to convert 'duration' column to a easy-to-read format using datetime module."
   ]
  },
  {
   "cell_type": "code",
   "execution_count": 103,
   "id": "6e8022aa",
   "metadata": {},
   "outputs": [],
   "source": [
    "playlist_df['duration'] = pd.to_datetime(playlist_df['duration'],\n",
    "             unit='ms').dt.strftime('%M:%S:%f').str[:5]"
   ]
  },
  {
   "cell_type": "code",
   "execution_count": 104,
   "id": "f1db9f0f",
   "metadata": {},
   "outputs": [],
   "source": [
    "columns = ['track_id', 'track_name','track_pop', 'duration','duration_sec', 'artist', 'album', 'album_type', 'release_date']\n",
    "playlist_df = playlist_df[columns]"
   ]
  },
  {
   "cell_type": "code",
   "execution_count": 105,
   "id": "4b022bcf",
   "metadata": {
    "collapsed": true
   },
   "outputs": [
    {
     "name": "stdout",
     "output_type": "stream",
     "text": [
      "<class 'pandas.core.frame.DataFrame'>\n",
      "RangeIndex: 600 entries, 0 to 599\n",
      "Data columns (total 9 columns):\n",
      " #   Column        Non-Null Count  Dtype \n",
      "---  ------        --------------  ----- \n",
      " 0   track_id      600 non-null    object\n",
      " 1   track_name    600 non-null    object\n",
      " 2   track_pop     600 non-null    int64 \n",
      " 3   duration      600 non-null    object\n",
      " 4   duration_sec  600 non-null    int64 \n",
      " 5   artist        600 non-null    object\n",
      " 6   album         600 non-null    object\n",
      " 7   album_type    600 non-null    object\n",
      " 8   release_date  600 non-null    object\n",
      "dtypes: int64(2), object(7)\n",
      "memory usage: 42.3+ KB\n"
     ]
    }
   ],
   "source": [
    "playlist_df.info()"
   ]
  },
  {
   "cell_type": "markdown",
   "id": "2350112c",
   "metadata": {
    "scrolled": false
   },
   "source": [
    "### 2.Track Audio Features\n",
    "In order to pull the corresponding audio features data for [the Top 600 Songs list](https://open.spotify.com/playlist/0X9hkrRqCCP69Ze1MheAda), we'll use the audio_features() function."
   ]
  },
  {
   "cell_type": "code",
   "execution_count": 106,
   "id": "bcc6517c",
   "metadata": {},
   "outputs": [
    {
     "data": {
      "text/plain": [
       "600"
      ]
     },
     "execution_count": 106,
     "metadata": {},
     "output_type": "execute_result"
    }
   ],
   "source": [
    "track_ids = []\n",
    "\n",
    "for track in track_list:\n",
    "    track_id = track[0]\n",
    "    track_ids.append(track_id)\n",
    "\n",
    "len(track_ids)"
   ]
  },
  {
   "cell_type": "code",
   "execution_count": 107,
   "id": "b07f1289",
   "metadata": {},
   "outputs": [],
   "source": [
    "audiofeatures_list = [] \n",
    "\n",
    "for track_id in track_ids :\n",
    "    features = sp.audio_features(track_id)[0]\n",
    "    danc = features['danceability']\n",
    "    enrg = features['energy']\n",
    "    key = features['key']\n",
    "    loud = features['loudness']\n",
    "    mode = features['mode']\n",
    "    spch = features['speechiness']\n",
    "    acou = features['acousticness']\n",
    "    inst = features['instrumentalness']\n",
    "    live = features['liveness']\n",
    "    valn = features['valence']\n",
    "    temp = features['tempo']\n",
    "    \n",
    "    flist = [track_id, danc, enrg, key, loud, mode, spch, acou, inst, live, valn, temp]\n",
    "    audiofeatures_list.append(flist)"
   ]
  },
  {
   "cell_type": "code",
   "execution_count": 108,
   "id": "e237d3ce",
   "metadata": {},
   "outputs": [],
   "source": [
    "features_df = pd.DataFrame(audiofeatures_list)\n",
    "features_df.columns = ['track_id', 'danc', 'enrg', 'key', 'loud', 'mode', 'spch', 'acou', 'inst', 'live', 'valn', 'temp']"
   ]
  },
  {
   "cell_type": "code",
   "execution_count": 120,
   "id": "2455c5ca",
   "metadata": {},
   "outputs": [
    {
     "data": {
      "text/html": [
       "<div>\n",
       "<style scoped>\n",
       "    .dataframe tbody tr th:only-of-type {\n",
       "        vertical-align: middle;\n",
       "    }\n",
       "\n",
       "    .dataframe tbody tr th {\n",
       "        vertical-align: top;\n",
       "    }\n",
       "\n",
       "    .dataframe thead th {\n",
       "        text-align: right;\n",
       "    }\n",
       "</style>\n",
       "<table border=\"1\" class=\"dataframe\">\n",
       "  <thead>\n",
       "    <tr style=\"text-align: right;\">\n",
       "      <th></th>\n",
       "      <th>track_id</th>\n",
       "      <th>danc</th>\n",
       "      <th>enrg</th>\n",
       "      <th>key</th>\n",
       "      <th>loud</th>\n",
       "      <th>mode</th>\n",
       "      <th>spch</th>\n",
       "      <th>acou</th>\n",
       "      <th>inst</th>\n",
       "      <th>live</th>\n",
       "      <th>valn</th>\n",
       "      <th>temp</th>\n",
       "    </tr>\n",
       "  </thead>\n",
       "  <tbody>\n",
       "    <tr>\n",
       "      <th>0</th>\n",
       "      <td>3ohLnESFgYACPMCkoTOzqE</td>\n",
       "      <td>0.533</td>\n",
       "      <td>0.638</td>\n",
       "      <td>4</td>\n",
       "      <td>-7.130</td>\n",
       "      <td>1</td>\n",
       "      <td>0.0341</td>\n",
       "      <td>0.20200</td>\n",
       "      <td>0.000000</td>\n",
       "      <td>0.0729</td>\n",
       "      <td>0.937</td>\n",
       "      <td>156.663</td>\n",
       "    </tr>\n",
       "    <tr>\n",
       "      <th>1</th>\n",
       "      <td>0n2SEXB2qoRQg171q7XqeW</td>\n",
       "      <td>0.609</td>\n",
       "      <td>0.923</td>\n",
       "      <td>9</td>\n",
       "      <td>-3.908</td>\n",
       "      <td>1</td>\n",
       "      <td>0.0338</td>\n",
       "      <td>0.16000</td>\n",
       "      <td>0.000005</td>\n",
       "      <td>0.2950</td>\n",
       "      <td>0.961</td>\n",
       "      <td>115.996</td>\n",
       "    </tr>\n",
       "    <tr>\n",
       "      <th>2</th>\n",
       "      <td>3E5ndyOfO6vFDEIE42HA8o</td>\n",
       "      <td>0.549</td>\n",
       "      <td>0.529</td>\n",
       "      <td>3</td>\n",
       "      <td>-12.291</td>\n",
       "      <td>0</td>\n",
       "      <td>0.1080</td>\n",
       "      <td>0.76000</td>\n",
       "      <td>0.000000</td>\n",
       "      <td>0.2060</td>\n",
       "      <td>0.464</td>\n",
       "      <td>82.755</td>\n",
       "    </tr>\n",
       "    <tr>\n",
       "      <th>3</th>\n",
       "      <td>32OlwWuMpZ6b0aN2RZOeMS</td>\n",
       "      <td>0.856</td>\n",
       "      <td>0.609</td>\n",
       "      <td>0</td>\n",
       "      <td>-7.223</td>\n",
       "      <td>1</td>\n",
       "      <td>0.0824</td>\n",
       "      <td>0.00801</td>\n",
       "      <td>0.000082</td>\n",
       "      <td>0.0344</td>\n",
       "      <td>0.928</td>\n",
       "      <td>114.988</td>\n",
       "    </tr>\n",
       "    <tr>\n",
       "      <th>4</th>\n",
       "      <td>7BD50ATrF3Vab5FQy7vtK8</td>\n",
       "      <td>0.577</td>\n",
       "      <td>0.462</td>\n",
       "      <td>2</td>\n",
       "      <td>-7.989</td>\n",
       "      <td>1</td>\n",
       "      <td>0.0279</td>\n",
       "      <td>0.12800</td>\n",
       "      <td>0.000000</td>\n",
       "      <td>0.0822</td>\n",
       "      <td>0.258</td>\n",
       "      <td>128.303</td>\n",
       "    </tr>\n",
       "  </tbody>\n",
       "</table>\n",
       "</div>"
      ],
      "text/plain": [
       "                 track_id   danc   enrg  key    loud  mode    spch     acou  \\\n",
       "0  3ohLnESFgYACPMCkoTOzqE  0.533  0.638    4  -7.130     1  0.0341  0.20200   \n",
       "1  0n2SEXB2qoRQg171q7XqeW  0.609  0.923    9  -3.908     1  0.0338  0.16000   \n",
       "2  3E5ndyOfO6vFDEIE42HA8o  0.549  0.529    3 -12.291     0  0.1080  0.76000   \n",
       "3  32OlwWuMpZ6b0aN2RZOeMS  0.856  0.609    0  -7.223     1  0.0824  0.00801   \n",
       "4  7BD50ATrF3Vab5FQy7vtK8  0.577  0.462    2  -7.989     1  0.0279  0.12800   \n",
       "\n",
       "       inst    live   valn     temp  \n",
       "0  0.000000  0.0729  0.937  156.663  \n",
       "1  0.000005  0.2950  0.961  115.996  \n",
       "2  0.000000  0.2060  0.464   82.755  \n",
       "3  0.000082  0.0344  0.928  114.988  \n",
       "4  0.000000  0.0822  0.258  128.303  "
      ]
     },
     "execution_count": 120,
     "metadata": {},
     "output_type": "execute_result"
    }
   ],
   "source": [
    "features_df.head()"
   ]
  }
 ],
 "metadata": {
  "kernelspec": {
   "display_name": "Python 3 (ipykernel)",
   "language": "python",
   "name": "python3"
  },
  "language_info": {
   "codemirror_mode": {
    "name": "ipython",
    "version": 3
   },
   "file_extension": ".py",
   "mimetype": "text/x-python",
   "name": "python",
   "nbconvert_exporter": "python",
   "pygments_lexer": "ipython3",
   "version": "3.9.13"
  }
 },
 "nbformat": 4,
 "nbformat_minor": 5
}
