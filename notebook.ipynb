{
 "cells": [
  {
   "cell_type": "markdown",
   "id": "e8d5d971",
   "metadata": {},
   "source": [
    "# Billboard Hot 100 Turns 60: Top 600 Songs Of All Time\n",
    "\n",
    "In honor of the 60th Anniversary of the Billboard Hot 100 Singles chart, on August 4, 2018, \n",
    "they created this [special chart of the 600 biggest songs of all time.](https://open.spotify.com/playlist/0X9hkrRqCCP69Ze1MheAda)\n",
    "\n",
    "We'll use Spotipy library API for scraping data from Spotify. Besides extracting the 600 songs from the Billboard, we'll also pull interesting song data such as danceability, loudness, energy of each song."
   ]
  },
  {
   "cell_type": "code",
   "execution_count": 95,
   "id": "ad4331c3",
   "metadata": {},
   "outputs": [],
   "source": [
    "import spotipy\n",
    "from spotipy.oauth2 import SpotifyClientCredentials\n",
    "from configparser import ConfigParser\n",
    "import pandas as pd\n",
    "from pprint import pprint\n",
    "import datetime\n",
    "from datetime import timedelta"
   ]
  },
  {
   "cell_type": "markdown",
   "id": "0f6a310f",
   "metadata": {},
   "source": [
    "## Data Extraction"
   ]
  },
  {
   "cell_type": "code",
   "execution_count": 96,
   "id": "74e3bb35",
   "metadata": {},
   "outputs": [],
   "source": [
    "config = ConfigParser()\n",
    "config.read('notebook.cfg')\n",
    "client_id = config['spotify_api']['client_id']\n",
    "client_secret = config['spotify_api']['client_secret']\n",
    "\n",
    "#Authenticating with Spotipy\n",
    "client_credentials_manager = SpotifyClientCredentials(client_id = client_id, client_secret = client_secret)\n",
    "sp = spotipy.Spotify(client_credentials_manager = client_credentials_manager)"
   ]
  },
  {
   "cell_type": "markdown",
   "id": "fe198680",
   "metadata": {},
   "source": [
    "### 1. Playlist Items\n",
    "Since playlist_items() function is limited to 100 tracks, we'll create a custom method to pull all tracks in [the Top 600 Songs list](https://open.spotify.com/playlist/0X9hkrRqCCP69Ze1MheAda)"
   ]
  },
  {
   "cell_type": "code",
   "execution_count": 97,
   "id": "981822c9",
   "metadata": {},
   "outputs": [],
   "source": [
    "# Playlist_tracks\n",
    "def get_playlist_tracks(playlist_id):\n",
    "    \n",
    "    pl_id = 'spotify:playlist:'+ playlist_id\n",
    "    offset = 0\n",
    "    print(pl_id)\n",
    "    while True:\n",
    "        response = sp.playlist_items(pl_id,\n",
    "                                 offset=offset,\n",
    "                                 fields='items(track(id,name,artists(name),album(name, album_type, release_date),popularity,duration_ms))'\n",
    "                                    )\n",
    "    \n",
    "        if len(response['items']) == 0:\n",
    "            break\n",
    "        \n",
    "        for item in response['items']:\n",
    "            yield(item[\"track\"])\n",
    "\n",
    "        offset = offset + len(response['items'])"
   ]
  },
  {
   "cell_type": "code",
   "execution_count": 98,
   "id": "9e6bff63",
   "metadata": {},
   "outputs": [],
   "source": [
    "playlist_link = 'https://open.spotify.com/playlist/0X9hkrRqCCP69Ze1MheAda'\n",
    "playlist_id = playlist_link.split(\"/\")[-1].split(\"?\")[0]"
   ]
  },
  {
   "cell_type": "code",
   "execution_count": 99,
   "id": "091a65d1",
   "metadata": {},
   "outputs": [
    {
     "name": "stdout",
     "output_type": "stream",
     "text": [
      "spotify:playlist:0X9hkrRqCCP69Ze1MheAda\n"
     ]
    }
   ],
   "source": [
    "track_list = [] \n",
    "for track in get_playlist_tracks(playlist_id):\n",
    "    \n",
    "    track_id = track['id']\n",
    "    track_name = track['name']\n",
    "     \n",
    "    artist_name = track['artists'][0]['name']\n",
    "   \n",
    "    album = track['album']['name']\n",
    "    album_type = track['album']['album_type']\n",
    "    release_date = track['album']['release_date']\n",
    "\n",
    "    track_pop = track['popularity']\n",
    "    track_duration = track['duration_ms']\n",
    "    \n",
    "    newlist =  [track_id, track_name, track_duration, track_pop, artist_name, album, album_type, release_date ]\n",
    "    \n",
    "    track_list.append(newlist)"
   ]
  },
  {
   "cell_type": "code",
   "execution_count": 100,
   "id": "6f2e6097",
   "metadata": {},
   "outputs": [],
   "source": [
    "#track_list"
   ]
  },
  {
   "cell_type": "code",
   "execution_count": 101,
   "id": "80ba1eed",
   "metadata": {},
   "outputs": [],
   "source": [
    "playlist_df = pd.DataFrame(track_list)\n",
    "playlist_df.columns = ['track_id', 'track_name', 'duration', 'track_pop', 'artist', 'album', 'album_type', 'release_date']\n",
    "#playlist_df.info()"
   ]
  },
  {
   "cell_type": "markdown",
   "id": "ae5ae047",
   "metadata": {},
   "source": [
    "### Data transformation"
   ]
  },
  {
   "cell_type": "code",
   "execution_count": 102,
   "id": "2d995760",
   "metadata": {},
   "outputs": [],
   "source": [
    "#Convert 'duration' from milliseconds to seconds.\n",
    "playlist_df['duration_sec'] = pd.to_timedelta(playlist_df.duration, unit='ms')\n",
    "playlist_df.duration_sec = playlist_df.duration_sec.dt.total_seconds().astype(int)\n",
    "#playlist_df.head()"
   ]
  },
  {
   "cell_type": "markdown",
   "id": "50862a8e",
   "metadata": {},
   "source": [
    "Another option is to convert 'duration' column to a easy-to-read format using datetime module."
   ]
  },
  {
   "cell_type": "code",
   "execution_count": 103,
   "id": "6e8022aa",
   "metadata": {},
   "outputs": [],
   "source": [
    "playlist_df['duration'] = pd.to_datetime(playlist_df['duration'],\n",
    "             unit='ms').dt.strftime('%M:%S:%f').str[:5]"
   ]
  },
  {
   "cell_type": "code",
   "execution_count": 104,
   "id": "f1db9f0f",
   "metadata": {},
   "outputs": [],
   "source": [
    "columns = ['track_id', 'track_name','track_pop', 'duration','duration_sec', 'artist', 'album', 'album_type', 'release_date']\n",
    "playlist_df = playlist_df[columns]"
   ]
  },
  {
   "cell_type": "code",
   "execution_count": 105,
   "id": "4b022bcf",
   "metadata": {},
   "outputs": [
    {
     "name": "stdout",
     "output_type": "stream",
     "text": [
      "<class 'pandas.core.frame.DataFrame'>\n",
      "RangeIndex: 600 entries, 0 to 599\n",
      "Data columns (total 9 columns):\n",
      " #   Column        Non-Null Count  Dtype \n",
      "---  ------        --------------  ----- \n",
      " 0   track_id      600 non-null    object\n",
      " 1   track_name    600 non-null    object\n",
      " 2   track_pop     600 non-null    int64 \n",
      " 3   duration      600 non-null    object\n",
      " 4   duration_sec  600 non-null    int64 \n",
      " 5   artist        600 non-null    object\n",
      " 6   album         600 non-null    object\n",
      " 7   album_type    600 non-null    object\n",
      " 8   release_date  600 non-null    object\n",
      "dtypes: int64(2), object(7)\n",
      "memory usage: 42.3+ KB\n"
     ]
    }
   ],
   "source": [
    "playlist_df.info()"
   ]
  },
  {
   "cell_type": "markdown",
   "id": "2350112c",
   "metadata": {
    "scrolled": false
   },
   "source": [
    "### 2.Track Audio Features\n",
    "In order to pull the corresponding audio features data for [the Top 600 Songs list](https://open.spotify.com/playlist/0X9hkrRqCCP69Ze1MheAda), we'll use the audio_features() function."
   ]
  },
  {
   "cell_type": "code",
   "execution_count": 106,
   "id": "bcc6517c",
   "metadata": {},
   "outputs": [
    {
     "data": {
      "text/plain": [
       "600"
      ]
     },
     "execution_count": 106,
     "metadata": {},
     "output_type": "execute_result"
    }
   ],
   "source": [
    "track_ids = []\n",
    "\n",
    "for track in track_list:\n",
    "    track_id = track[0]\n",
    "    track_ids.append(track_id)\n",
    "\n",
    "len(track_ids)"
   ]
  },
  {
   "cell_type": "code",
   "execution_count": 107,
   "id": "b07f1289",
   "metadata": {},
   "outputs": [],
   "source": [
    "audiofeatures_list = [] \n",
    "\n",
    "for track_id in track_ids :\n",
    "    features = sp.audio_features(track_id)[0]\n",
    "    danc = features['danceability']\n",
    "    enrg = features['energy']\n",
    "    key = features['key']\n",
    "    loud = features['loudness']\n",
    "    mode = features['mode']\n",
    "    spch = features['speechiness']\n",
    "    acou = features['acousticness']\n",
    "    inst = features['instrumentalness']\n",
    "    live = features['liveness']\n",
    "    valn = features['valence']\n",
    "    temp = features['tempo']\n",
    "    \n",
    "    flist = [track_id, danc, enrg, key, loud, mode, spch, acou, inst, live, valn, temp]\n",
    "    audiofeatures_list.append(flist)"
   ]
  },
  {
   "cell_type": "code",
   "execution_count": 108,
   "id": "e237d3ce",
   "metadata": {},
   "outputs": [],
   "source": [
    "features_df = pd.DataFrame(audiofeatures_list)\n",
    "features_df.columns = ['track_id', 'danc', 'enrg', 'key', 'loud', 'mode', 'spch', 'acou', 'inst', 'live', 'valn', 'temp']"
   ]
  },
  {
   "cell_type": "code",
   "execution_count": 109,
   "id": "2455c5ca",
   "metadata": {},
   "outputs": [
    {
     "name": "stdout",
     "output_type": "stream",
     "text": [
      "<class 'pandas.core.frame.DataFrame'>\n",
      "RangeIndex: 600 entries, 0 to 599\n",
      "Data columns (total 12 columns):\n",
      " #   Column    Non-Null Count  Dtype  \n",
      "---  ------    --------------  -----  \n",
      " 0   track_id  600 non-null    object \n",
      " 1   danc      600 non-null    float64\n",
      " 2   enrg      600 non-null    float64\n",
      " 3   key       600 non-null    int64  \n",
      " 4   loud      600 non-null    float64\n",
      " 5   mode      600 non-null    int64  \n",
      " 6   spch      600 non-null    float64\n",
      " 7   acou      600 non-null    float64\n",
      " 8   inst      600 non-null    float64\n",
      " 9   live      600 non-null    float64\n",
      " 10  valn      600 non-null    float64\n",
      " 11  temp      600 non-null    float64\n",
      "dtypes: float64(9), int64(2), object(1)\n",
      "memory usage: 56.4+ KB\n"
     ]
    }
   ],
   "source": [
    "features_df.info()"
   ]
  },
  {
   "cell_type": "code",
   "execution_count": 110,
   "id": "e44c1df2",
   "metadata": {},
   "outputs": [],
   "source": [
    "top600_list= pd.merge(playlist_df, features_df, how=\"inner\")"
   ]
  },
  {
   "cell_type": "code",
   "execution_count": 111,
   "id": "e8d92f19",
   "metadata": {},
   "outputs": [
    {
     "name": "stdout",
     "output_type": "stream",
     "text": [
      "<class 'pandas.core.frame.DataFrame'>\n",
      "Int64Index: 600 entries, 0 to 599\n",
      "Data columns (total 20 columns):\n",
      " #   Column        Non-Null Count  Dtype  \n",
      "---  ------        --------------  -----  \n",
      " 0   track_id      600 non-null    object \n",
      " 1   track_name    600 non-null    object \n",
      " 2   track_pop     600 non-null    int64  \n",
      " 3   duration      600 non-null    object \n",
      " 4   duration_sec  600 non-null    int64  \n",
      " 5   artist        600 non-null    object \n",
      " 6   album         600 non-null    object \n",
      " 7   album_type    600 non-null    object \n",
      " 8   release_date  600 non-null    object \n",
      " 9   danc          600 non-null    float64\n",
      " 10  enrg          600 non-null    float64\n",
      " 11  key           600 non-null    int64  \n",
      " 12  loud          600 non-null    float64\n",
      " 13  mode          600 non-null    int64  \n",
      " 14  spch          600 non-null    float64\n",
      " 15  acou          600 non-null    float64\n",
      " 16  inst          600 non-null    float64\n",
      " 17  live          600 non-null    float64\n",
      " 18  valn          600 non-null    float64\n",
      " 19  temp          600 non-null    float64\n",
      "dtypes: float64(9), int64(4), object(7)\n",
      "memory usage: 98.4+ KB\n"
     ]
    }
   ],
   "source": [
    "top600_list.info()"
   ]
  }
 ],
 "metadata": {
  "kernelspec": {
   "display_name": "Python 3 (ipykernel)",
   "language": "python",
   "name": "python3"
  },
  "language_info": {
   "codemirror_mode": {
    "name": "ipython",
    "version": 3
   },
   "file_extension": ".py",
   "mimetype": "text/x-python",
   "name": "python",
   "nbconvert_exporter": "python",
   "pygments_lexer": "ipython3",
   "version": "3.9.13"
  }
 },
 "nbformat": 4,
 "nbformat_minor": 5
}
